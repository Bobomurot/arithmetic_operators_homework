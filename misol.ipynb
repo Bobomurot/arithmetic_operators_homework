{
 "cells": [
  {
   "cell_type": "code",
   "execution_count": null,
   "metadata": {
    "vscode": {
     "languageId": "plaintext"
    }
   },
   "outputs": [],
   "source": [
    "# x  o'zgaruvchisini yarating va unga 10 qiymatini belgilang.\n",
    "x =  10 \n",
    "# y  o'zgaruvchisini yarating va unga 5 qiymatini belgilang.\n",
    "y = 5 \n",
    "# total o'zgaruvchisini yarating va unga (x * y) - a + b qiymatini belgilang.\n",
    "a = int(input())\n",
    "b = int(input())\n",
    "c = (x * y) - a + b\n",
    "# Natija qiymatini chop eting.\n",
    "print(c)"
   ]
  }
 ],
 "metadata": {
  "language_info": {
   "name": "python"
  }
 },
 "nbformat": 4,
 "nbformat_minor": 2
}
